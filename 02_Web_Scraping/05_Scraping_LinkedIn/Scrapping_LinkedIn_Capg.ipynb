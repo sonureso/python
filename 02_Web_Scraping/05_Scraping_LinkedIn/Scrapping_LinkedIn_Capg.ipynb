{
 "cells": [
  {
   "cell_type": "code",
   "execution_count": 1,
   "metadata": {},
   "outputs": [],
   "source": [
    "import pandas as pd\n",
    "import numpy as np\n",
    "from bs4 import BeautifulSoup as soup\n",
    "from urllib.request import Request, urlopen\n",
    "import requests\n",
    "import json"
   ]
  },
  {
   "cell_type": "code",
   "execution_count": 171,
   "metadata": {},
   "outputs": [],
   "source": [
    "f_data = {\n",
    "    'session_key': 'mail-your@gmail.com',\n",
    "    'session_password': 'yourpasshere',\n",
    "    'trk': 'guest_homepage-basic_sign-in-submit'\n",
    "}"
   ]
  },
  {
   "cell_type": "code",
   "execution_count": 172,
   "metadata": {},
   "outputs": [],
   "source": [
    "url = 'https://www.linkedin.com'\n",
    "url2 = 'https://www.linkedin.com/uas/login-submit'\n",
    "with requests.Session() as s:\n",
    "    result = s.get(url,headers={'User-Agent': 'Mozilla/5.0'})\n",
    "    \n",
    "    page_soup = soup(result.content,\"html.parser\")\n",
    "    f_data['loginCsrfParam'] = page_soup.find(\"input\",attrs={\"name\":\"loginCsrfParam\"})['value']\n",
    "    result2 = s.post(url2, data = f_data, headers={'User-Agent': 'Mozilla/5.0'})\n",
    "    result3 = s.get('https://www.linkedin.com/search/results/people/?facetCurrentCompany=%5B\"157240\"%2C\"1075\"%2C\"1956\"%2C\"163711\"%2C\"2229436\"%2C\"165565\"%2C\"505336\"%5D')"
   ]
  },
  {
   "cell_type": "code",
   "execution_count": 180,
   "metadata": {},
   "outputs": [],
   "source": [
    "#result3.content"
   ]
  },
  {
   "cell_type": "code",
   "execution_count": 173,
   "metadata": {},
   "outputs": [],
   "source": [
    "page_soup2 = soup(result3.content,\"html.parser\")"
   ]
  },
  {
   "cell_type": "code",
   "execution_count": 174,
   "metadata": {},
   "outputs": [],
   "source": [
    "t = page_soup2.findAll(\"code\")[16].text[3:-1]\n",
    "m = json.loads(t)"
   ]
  },
  {
   "cell_type": "code",
   "execution_count": 175,
   "metadata": {},
   "outputs": [],
   "source": [
    "name = []\n",
    "id = []\n",
    "desig = []\n",
    "add = []"
   ]
  },
  {
   "cell_type": "code",
   "execution_count": 176,
   "metadata": {},
   "outputs": [],
   "source": [
    "for d in m['data']['elements'][1]['elements']:\n",
    "    name.append(d['title']['text'])\n",
    "    id.append(d['publicIdentifier'])\n",
    "    desig.append(d['headline']['text'])\n",
    "    add.append(d['subline']['text'])"
   ]
  },
  {
   "cell_type": "code",
   "execution_count": 177,
   "metadata": {},
   "outputs": [],
   "source": [
    "df = pd.DataFrame()\n",
    "df['name'] = name\n",
    "df['id'] = id\n",
    "df['desig'] = desig\n",
    "df['add'] = add"
   ]
  },
  {
   "cell_type": "code",
   "execution_count": 178,
   "metadata": {},
   "outputs": [
    {
     "data": {
      "text/html": [
       "<div>\n",
       "<style scoped>\n",
       "    .dataframe tbody tr th:only-of-type {\n",
       "        vertical-align: middle;\n",
       "    }\n",
       "\n",
       "    .dataframe tbody tr th {\n",
       "        vertical-align: top;\n",
       "    }\n",
       "\n",
       "    .dataframe thead th {\n",
       "        text-align: right;\n",
       "    }\n",
       "</style>\n",
       "<table border=\"1\" class=\"dataframe\">\n",
       "  <thead>\n",
       "    <tr style=\"text-align: right;\">\n",
       "      <th></th>\n",
       "      <th>name</th>\n",
       "      <th>id</th>\n",
       "      <th>desig</th>\n",
       "      <th>add</th>\n",
       "    </tr>\n",
       "  </thead>\n",
       "  <tbody>\n",
       "    <tr>\n",
       "      <th>0</th>\n",
       "      <td>Arjita Saxena</td>\n",
       "      <td>arjita-saxena-833297116</td>\n",
       "      <td>Analyst at Capgemini</td>\n",
       "      <td>Pandharpur Area, India</td>\n",
       "    </tr>\n",
       "    <tr>\n",
       "      <th>1</th>\n",
       "      <td>VAIBHAV SHUKLA</td>\n",
       "      <td>vaibhav-shukla-627021125</td>\n",
       "      <td>employee at capgemini</td>\n",
       "      <td>Mumbai Area, India</td>\n",
       "    </tr>\n",
       "    <tr>\n",
       "      <th>2</th>\n",
       "      <td>Harish Tyagi</td>\n",
       "      <td>harishtyagi</td>\n",
       "      <td>Analyst at Capgemini Netsuite | Certified Dell...</td>\n",
       "      <td>Agra Area, India</td>\n",
       "    </tr>\n",
       "    <tr>\n",
       "      <th>3</th>\n",
       "      <td>Pranjal Saxena</td>\n",
       "      <td>pranjalai</td>\n",
       "      <td>Open to work with cutting-edge technologies Ma...</td>\n",
       "      <td>Bengaluru Area, India</td>\n",
       "    </tr>\n",
       "    <tr>\n",
       "      <th>4</th>\n",
       "      <td>ADITYA KUMAR SINGH</td>\n",
       "      <td>aditya-kumar-singh-557111b9</td>\n",
       "      <td>Analyst</td>\n",
       "      <td>Mumbai Area, India</td>\n",
       "    </tr>\n",
       "    <tr>\n",
       "      <th>5</th>\n",
       "      <td>Vanshaj Bhatia</td>\n",
       "      <td>vanshajbhatia</td>\n",
       "      <td>Software Engineer at Capgemini</td>\n",
       "      <td>Kalyan Area, India</td>\n",
       "    </tr>\n",
       "    <tr>\n",
       "      <th>6</th>\n",
       "      <td>Sachin Saini</td>\n",
       "      <td>imsachinsaini</td>\n",
       "      <td>SAP Analyst</td>\n",
       "      <td>Mumbai Area, India</td>\n",
       "    </tr>\n",
       "    <tr>\n",
       "      <th>7</th>\n",
       "      <td>SHASHANK KAMAL</td>\n",
       "      <td>shashank-kamal</td>\n",
       "      <td>Analyst at Capgemini</td>\n",
       "      <td>Allahabad Area, India</td>\n",
       "    </tr>\n",
       "    <tr>\n",
       "      <th>8</th>\n",
       "      <td>Rahul Chauhan</td>\n",
       "      <td>rahulchauhan29</td>\n",
       "      <td>Java full stack developer at Capgemini</td>\n",
       "      <td>Kalyan Area, India</td>\n",
       "    </tr>\n",
       "    <tr>\n",
       "      <th>9</th>\n",
       "      <td>Nikita Kharade</td>\n",
       "      <td>nikita-kharade-97282499</td>\n",
       "      <td>Informatica PowerCenter Deveoper</td>\n",
       "      <td>India</td>\n",
       "    </tr>\n",
       "  </tbody>\n",
       "</table>\n",
       "</div>"
      ],
      "text/plain": [
       "                 name                           id  \\\n",
       "0       Arjita Saxena      arjita-saxena-833297116   \n",
       "1      VAIBHAV SHUKLA     vaibhav-shukla-627021125   \n",
       "2        Harish Tyagi                  harishtyagi   \n",
       "3      Pranjal Saxena                    pranjalai   \n",
       "4  ADITYA KUMAR SINGH  aditya-kumar-singh-557111b9   \n",
       "5      Vanshaj Bhatia                vanshajbhatia   \n",
       "6        Sachin Saini                imsachinsaini   \n",
       "7      SHASHANK KAMAL               shashank-kamal   \n",
       "8       Rahul Chauhan               rahulchauhan29   \n",
       "9      Nikita Kharade      nikita-kharade-97282499   \n",
       "\n",
       "                                               desig                     add  \n",
       "0                               Analyst at Capgemini  Pandharpur Area, India  \n",
       "1                              employee at capgemini      Mumbai Area, India  \n",
       "2  Analyst at Capgemini Netsuite | Certified Dell...        Agra Area, India  \n",
       "3  Open to work with cutting-edge technologies Ma...   Bengaluru Area, India  \n",
       "4                                            Analyst      Mumbai Area, India  \n",
       "5                     Software Engineer at Capgemini      Kalyan Area, India  \n",
       "6                                        SAP Analyst      Mumbai Area, India  \n",
       "7                               Analyst at Capgemini   Allahabad Area, India  \n",
       "8             Java full stack developer at Capgemini      Kalyan Area, India  \n",
       "9                   Informatica PowerCenter Deveoper                   India  "
      ]
     },
     "execution_count": 178,
     "metadata": {},
     "output_type": "execute_result"
    }
   ],
   "source": [
    "df"
   ]
  },
  {
   "cell_type": "code",
   "execution_count": 4,
   "metadata": {},
   "outputs": [],
   "source": []
  },
  {
   "cell_type": "code",
   "execution_count": 5,
   "metadata": {},
   "outputs": [],
   "source": []
  },
  {
   "cell_type": "code",
   "execution_count": null,
   "metadata": {},
   "outputs": [],
   "source": []
  },
  {
   "cell_type": "code",
   "execution_count": null,
   "metadata": {},
   "outputs": [],
   "source": []
  }
 ],
 "metadata": {
  "kernelspec": {
   "display_name": "Python 3",
   "language": "python",
   "name": "python3"
  },
  "language_info": {
   "codemirror_mode": {
    "name": "ipython",
    "version": 3
   },
   "file_extension": ".py",
   "mimetype": "text/x-python",
   "name": "python",
   "nbconvert_exporter": "python",
   "pygments_lexer": "ipython3",
   "version": "3.7.3"
  }
 },
 "nbformat": 4,
 "nbformat_minor": 2
}
