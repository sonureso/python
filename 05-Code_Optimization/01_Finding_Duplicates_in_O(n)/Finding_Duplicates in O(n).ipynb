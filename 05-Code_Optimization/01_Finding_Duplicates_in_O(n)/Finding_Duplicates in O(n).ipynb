{
 "cells": [
  {
   "cell_type": "code",
   "execution_count": 106,
   "metadata": {},
   "outputs": [],
   "source": [
    "import random\n",
    "import pandas as pd"
   ]
  },
  {
   "cell_type": "code",
   "execution_count": 204,
   "metadata": {},
   "outputs": [
    {
     "name": "stdout",
     "output_type": "stream",
     "text": [
      "1794\n",
      "1768\n"
     ]
    }
   ],
   "source": [
    "m = pd.read_csv('movies.csv')\n",
    "movies = list(m['title'])\n",
    "print(len(movies))\n",
    "print(len(set(movies)))"
   ]
  },
  {
   "cell_type": "code",
   "execution_count": 201,
   "metadata": {},
   "outputs": [],
   "source": [
    "def gettime(movies):\n",
    "    movies.sort()\n",
    "    dup = [d for d,e in zip(movies[:-1],movies[1:]) if d == e]\n",
    "    print(dup)\n",
    "    print(len(dup))"
   ]
  },
  {
   "cell_type": "code",
   "execution_count": 200,
   "metadata": {},
   "outputs": [
    {
     "name": "stdout",
     "output_type": "stream",
     "text": [
      "['Assault on Precinct 13', 'Beautiful Creatures', 'Black Christmas', 'Carrie', 'Conan the Barbarian', 'Dawn of the Dead', 'Day of the Dead', 'Dune', 'Friday the 13th', 'Frozen', 'Halloween', 'Hannibal', 'Pride and Prejudice', 'Pride and Prejudice', 'Priest', 'Safe', 'Sparkle', 'Straw Dogs', 'The Amityville Horror', 'The Avengers', 'The Fog', 'The Girl with the Dragon Tattoo', 'The Host', 'The Illusionist', 'The Karate Kid', 'Total Recall']\n",
      "26\n",
      "Wall time: 0 ns\n"
     ]
    }
   ],
   "source": [
    "%time gettime(movies)"
   ]
  },
  {
   "cell_type": "code",
   "execution_count": null,
   "metadata": {},
   "outputs": [],
   "source": []
  },
  {
   "cell_type": "code",
   "execution_count": null,
   "metadata": {},
   "outputs": [],
   "source": []
  },
  {
   "cell_type": "code",
   "execution_count": null,
   "metadata": {},
   "outputs": [],
   "source": []
  },
  {
   "cell_type": "code",
   "execution_count": null,
   "metadata": {},
   "outputs": [],
   "source": []
  }
 ],
 "metadata": {
  "kernelspec": {
   "display_name": "Python 3",
   "language": "python",
   "name": "python3"
  },
  "language_info": {
   "codemirror_mode": {
    "name": "ipython",
    "version": 3
   },
   "file_extension": ".py",
   "mimetype": "text/x-python",
   "name": "python",
   "nbconvert_exporter": "python",
   "pygments_lexer": "ipython3",
   "version": "3.7.4"
  }
 },
 "nbformat": 4,
 "nbformat_minor": 2
}
