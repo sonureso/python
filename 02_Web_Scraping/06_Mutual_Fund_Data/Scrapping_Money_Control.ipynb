{
 "cells": [
  {
   "cell_type": "code",
   "execution_count": 1,
   "metadata": {},
   "outputs": [],
   "source": [
    "import pandas as pd\n",
    "import numpy as np\n",
    "from bs4 import BeautifulSoup as soup\n",
    "from urllib.request import Request, urlopen\n",
    "import json\n",
    "from tqdm import tqdm"
   ]
  },
  {
   "cell_type": "code",
   "execution_count": 18,
   "metadata": {},
   "outputs": [],
   "source": [
    "req_list = []\n",
    "req_list.append(Request('https://www.moneycontrol.com/mutual-funds/nav/aditya-birla-sun-life-low-duration-fund-direct-plan/MBS919', headers={'User-Agent': 'Mozilla/5.0'}))\n",
    "req_list.append(Request('https://www.moneycontrol.com/mutual-funds/nav/axis-bluechip-fund-direct-plan/MAA181', headers={'User-Agent': 'Mozilla/5.0'}))\n",
    "req_list.append(Request('https://www.moneycontrol.com/mutual-funds/nav/mirae-asset-large-cap-fund-direct-plan/MMA096', headers={'User-Agent': 'Mozilla/5.0'}))\n",
    "req_list.append(Request('https://www.moneycontrol.com/mutual-funds/nav/sbi-magnum-multicap-fund-direct-plan/MSB503', headers={'User-Agent': 'Mozilla/5.0'}))\n",
    "req_list.append(Request('https://www.moneycontrol.com/mutual-funds/nav/icici-prudential-bluechip-fund-direct-plan/MPI1134', headers={'User-Agent': 'Mozilla/5.0'}))\n",
    "req_list.append(Request('https://www.moneycontrol.com/mutual-funds/nav/motilal-oswal-multicap-35-fund-direct-plan/MMO031', headers={'User-Agent': 'Mozilla/5.0'}))\n",
    "req_list.append(Request('https://www.moneycontrol.com/mutual-funds/nav/nippon-india-large-cap-fund-direct-plan/MRC940', headers={'User-Agent': 'Mozilla/5.0'}))\n"
   ]
  },
  {
   "cell_type": "code",
   "execution_count": 19,
   "metadata": {},
   "outputs": [
    {
     "name": "stderr",
     "output_type": "stream",
     "text": [
      "100%|████████████████████████████████████████████████████████████████████████████████████| 7/7 [00:04<00:00,  1.73it/s]\n"
     ]
    }
   ],
   "source": [
    "webpage_list = []\n",
    "for req in tqdm(req_list):    \n",
    "    client = urlopen(req)\n",
    "    webpage_list.append(client.read())\n",
    "    client.close()"
   ]
  },
  {
   "cell_type": "code",
   "execution_count": 20,
   "metadata": {},
   "outputs": [
    {
     "name": "stderr",
     "output_type": "stream",
     "text": [
      "100%|████████████████████████████████████████████████████████████████████████████████████| 7/7 [00:02<00:00,  3.42it/s]\n"
     ]
    }
   ],
   "source": [
    "page_soup_list = []\n",
    "for webpage in tqdm(webpage_list):\n",
    "    page_soup_list.append(soup(webpage,\"html.parser\"))"
   ]
  },
  {
   "cell_type": "code",
   "execution_count": 21,
   "metadata": {},
   "outputs": [
    {
     "data": {
      "text/plain": [
       "['Aditya Birla Sun Life Low Duration Fund - Direct Plan - Growth',\n",
       " 'Axis Bluechip Fund - Direct Plan - Growth',\n",
       " 'Mirae Asset Large Cap Fund - Direct Plan - Growth',\n",
       " 'SBI Magnum MultiCap Fund - Direct Plan - Growth',\n",
       " 'ICICI Prudential Bluechip Fund - Direct Plan - Growth',\n",
       " 'Motilal Oswal Multicap 35 Fund - Direct Plan - Growth',\n",
       " 'Nippon India Large Cap Fund - Direct Plan - Growth']"
      ]
     },
     "execution_count": 21,
     "metadata": {},
     "output_type": "execute_result"
    }
   ],
   "source": [
    "#Fund Names:\n",
    "fund_name = []\n",
    "for page_soup in page_soup_list:\n",
    "    fund_name.append(page_soup.find(\"h1\",{\"class\":\"page_heading\"}).text)\n",
    "fund_name"
   ]
  },
  {
   "cell_type": "code",
   "execution_count": null,
   "metadata": {},
   "outputs": [],
   "source": []
  },
  {
   "cell_type": "code",
   "execution_count": null,
   "metadata": {},
   "outputs": [],
   "source": [
    "#01 - Getting isin and ind_id:"
   ]
  },
  {
   "cell_type": "code",
   "execution_count": 22,
   "metadata": {},
   "outputs": [],
   "source": [
    "isin = []\n",
    "ind_id = []\n",
    "for page_soup in page_soup_list:\n",
    "    isin.append(page_soup.findAll(\"li\",{\"id\":\"li_1m\"})[0].a['onclick'][17:29])\n",
    "    ind_id.append(page_soup.findAll(\"script\")[46].text[1506:1508])"
   ]
  },
  {
   "cell_type": "code",
   "execution_count": 23,
   "metadata": {},
   "outputs": [
    {
     "name": "stdout",
     "output_type": "stream",
     "text": [
      "['INF209K01XU7', 'INF846K01DP8', 'INF769K01AX2', 'INF200K01UG1', 'INF109K016L0', 'INF247L01502', 'INF204K01XI3']\n",
      "['82', '82', '82', '82', '82', '82', '82']\n"
     ]
    }
   ],
   "source": [
    "print(isin)\n",
    "print(ind_id)\n"
   ]
  },
  {
   "cell_type": "code",
   "execution_count": 19,
   "metadata": {},
   "outputs": [
    {
     "data": {
      "text/plain": [
       "'INF209K01XU7'"
      ]
     },
     "execution_count": 19,
     "metadata": {},
     "output_type": "execute_result"
    }
   ],
   "source": []
  },
  {
   "cell_type": "code",
   "execution_count": 24,
   "metadata": {},
   "outputs": [],
   "source": [
    "#Preparing data link:\n",
    "link_list = []\n",
    "for i in range(len(isin)):\n",
    "    link_list.append('https://www.moneycontrol.com/mc/widget/mfnavonetimeinvestment/get_chart_value?isin='+isin[i]+'&dur=ALL&ind_id='+ind_id[i]+'&indexName=CRISIL%2010%20Year%20Gilt%20Index&classic=true&type=benchmark&investmentType=Debt')\n",
    "    "
   ]
  },
  {
   "cell_type": "code",
   "execution_count": 25,
   "metadata": {},
   "outputs": [],
   "source": [
    "#Getting data page list:\n",
    "webpage2_list = []\n",
    "for link in link_list:\n",
    "    req2 = Request(link, headers={'User-Agent': 'Mozilla/5.0'})\n",
    "    client = urlopen(req2)\n",
    "    webpage2_list.append(client.read())\n",
    "    client.close()"
   ]
  },
  {
   "cell_type": "code",
   "execution_count": 26,
   "metadata": {},
   "outputs": [],
   "source": [
    "#Getting data webpages:\n",
    "m_list = []\n",
    "for webpage in webpage2_list:\n",
    "    z = str(soup(webpage,\"html.parser\"))\n",
    "    m_list.append(json.loads(z))"
   ]
  },
  {
   "cell_type": "code",
   "execution_count": 27,
   "metadata": {},
   "outputs": [
    {
     "data": {
      "text/plain": [
       "7"
      ]
     },
     "execution_count": 27,
     "metadata": {},
     "output_type": "execute_result"
    }
   ],
   "source": [
    "len(m_list)"
   ]
  },
  {
   "cell_type": "code",
   "execution_count": 28,
   "metadata": {},
   "outputs": [],
   "source": [
    "#getting date and nav of all MFs.\n",
    "date = []\n",
    "nav = []\n",
    "for i in range(len(m_list)):\n",
    "    date2 = []\n",
    "    nav2 = []\n",
    "    for x in m_list[i]['g1']:\n",
    "        date2.append(x['navDate'])\n",
    "        nav2.append(x['navValue'])\n",
    "    date.append(date2)\n",
    "    nav.append(nav2)\n",
    "    date[i].reverse()\n",
    "    nav[i].reverse()"
   ]
  },
  {
   "cell_type": "code",
   "execution_count": 29,
   "metadata": {},
   "outputs": [
    {
     "data": {
      "text/plain": [
       "1700"
      ]
     },
     "execution_count": 29,
     "metadata": {},
     "output_type": "execute_result"
    }
   ],
   "source": [
    "#Getting max length:\n",
    "max = 0\n",
    "for d in date:\n",
    "    if(max<len(d)):\n",
    "        max = len(d)\n",
    "max"
   ]
  },
  {
   "cell_type": "code",
   "execution_count": 30,
   "metadata": {},
   "outputs": [],
   "source": [
    "# Making all list of same size:\n",
    "for i in range(len(date)):\n",
    "    blanks = max-len(date[i])\n",
    "    date[i][len(date[i]):max] = blanks * [0]\n",
    "    nav[i][len(nav[i]):max] = blanks * [0]"
   ]
  },
  {
   "cell_type": "code",
   "execution_count": 31,
   "metadata": {},
   "outputs": [],
   "source": [
    "df = pd.DataFrame()\n",
    "for i in range(len(date)):\n",
    "    date_for = 'Date_'+fund_name[i][0:11].replace(' ','_')\n",
    "    nav_for = 'NAV_'+fund_name[i][0:11].replace(' ','_')\n",
    "    df[date_for] = date[i]\n",
    "    df[nav_for] = nav[i]"
   ]
  },
  {
   "cell_type": "code",
   "execution_count": 32,
   "metadata": {},
   "outputs": [
    {
     "data": {
      "text/html": [
       "<div>\n",
       "<style scoped>\n",
       "    .dataframe tbody tr th:only-of-type {\n",
       "        vertical-align: middle;\n",
       "    }\n",
       "\n",
       "    .dataframe tbody tr th {\n",
       "        vertical-align: top;\n",
       "    }\n",
       "\n",
       "    .dataframe thead th {\n",
       "        text-align: right;\n",
       "    }\n",
       "</style>\n",
       "<table border=\"1\" class=\"dataframe\">\n",
       "  <thead>\n",
       "    <tr style=\"text-align: right;\">\n",
       "      <th></th>\n",
       "      <th>Date_Aditya_Birl</th>\n",
       "      <th>NAV_Aditya_Birl</th>\n",
       "      <th>Date_Axis_Bluech</th>\n",
       "      <th>NAV_Axis_Bluech</th>\n",
       "      <th>Date_Mirae_Asset</th>\n",
       "      <th>NAV_Mirae_Asset</th>\n",
       "      <th>Date_SBI_Magnum_</th>\n",
       "      <th>NAV_SBI_Magnum_</th>\n",
       "      <th>Date_ICICI_Prude</th>\n",
       "      <th>NAV_ICICI_Prude</th>\n",
       "      <th>Date_Motilal_Osw</th>\n",
       "      <th>NAV_Motilal_Osw</th>\n",
       "      <th>Date_Nippon_Indi</th>\n",
       "      <th>NAV_Nippon_Indi</th>\n",
       "    </tr>\n",
       "  </thead>\n",
       "  <tbody>\n",
       "    <tr>\n",
       "      <td>1695</td>\n",
       "      <td>0</td>\n",
       "      <td>0.0</td>\n",
       "      <td>2013-01-04</td>\n",
       "      <td>12.35</td>\n",
       "      <td>2013-01-07</td>\n",
       "      <td>18.950</td>\n",
       "      <td>2013-01-07</td>\n",
       "      <td>18.99</td>\n",
       "      <td>2013-01-04</td>\n",
       "      <td>18.76</td>\n",
       "      <td>0</td>\n",
       "      <td>0.0</td>\n",
       "      <td>2013-01-08</td>\n",
       "      <td>14.7197</td>\n",
       "    </tr>\n",
       "    <tr>\n",
       "      <td>1696</td>\n",
       "      <td>0</td>\n",
       "      <td>0.0</td>\n",
       "      <td>2013-01-03</td>\n",
       "      <td>12.32</td>\n",
       "      <td>2013-01-04</td>\n",
       "      <td>19.008</td>\n",
       "      <td>0</td>\n",
       "      <td>0.00</td>\n",
       "      <td>2013-01-03</td>\n",
       "      <td>18.73</td>\n",
       "      <td>0</td>\n",
       "      <td>0.0</td>\n",
       "      <td>2013-01-07</td>\n",
       "      <td>14.7718</td>\n",
       "    </tr>\n",
       "    <tr>\n",
       "      <td>1697</td>\n",
       "      <td>0</td>\n",
       "      <td>0.0</td>\n",
       "      <td>2013-01-02</td>\n",
       "      <td>12.28</td>\n",
       "      <td>2013-01-03</td>\n",
       "      <td>19.011</td>\n",
       "      <td>0</td>\n",
       "      <td>0.00</td>\n",
       "      <td>2013-01-02</td>\n",
       "      <td>18.66</td>\n",
       "      <td>0</td>\n",
       "      <td>0.0</td>\n",
       "      <td>2013-01-04</td>\n",
       "      <td>14.8037</td>\n",
       "    </tr>\n",
       "    <tr>\n",
       "      <td>1698</td>\n",
       "      <td>0</td>\n",
       "      <td>0.0</td>\n",
       "      <td>0</td>\n",
       "      <td>0.00</td>\n",
       "      <td>2013-01-02</td>\n",
       "      <td>18.972</td>\n",
       "      <td>0</td>\n",
       "      <td>0.00</td>\n",
       "      <td>2013-01-01</td>\n",
       "      <td>18.55</td>\n",
       "      <td>0</td>\n",
       "      <td>0.0</td>\n",
       "      <td>2013-01-03</td>\n",
       "      <td>14.7305</td>\n",
       "    </tr>\n",
       "    <tr>\n",
       "      <td>1699</td>\n",
       "      <td>0</td>\n",
       "      <td>0.0</td>\n",
       "      <td>0</td>\n",
       "      <td>0.00</td>\n",
       "      <td>0</td>\n",
       "      <td>0.000</td>\n",
       "      <td>0</td>\n",
       "      <td>0.00</td>\n",
       "      <td>0</td>\n",
       "      <td>0.00</td>\n",
       "      <td>0</td>\n",
       "      <td>0.0</td>\n",
       "      <td>2013-01-02</td>\n",
       "      <td>14.6967</td>\n",
       "    </tr>\n",
       "  </tbody>\n",
       "</table>\n",
       "</div>"
      ],
      "text/plain": [
       "     Date_Aditya_Birl  NAV_Aditya_Birl Date_Axis_Bluech  NAV_Axis_Bluech  \\\n",
       "1695                0              0.0       2013-01-04            12.35   \n",
       "1696                0              0.0       2013-01-03            12.32   \n",
       "1697                0              0.0       2013-01-02            12.28   \n",
       "1698                0              0.0                0             0.00   \n",
       "1699                0              0.0                0             0.00   \n",
       "\n",
       "     Date_Mirae_Asset  NAV_Mirae_Asset Date_SBI_Magnum_  NAV_SBI_Magnum_  \\\n",
       "1695       2013-01-07           18.950       2013-01-07            18.99   \n",
       "1696       2013-01-04           19.008                0             0.00   \n",
       "1697       2013-01-03           19.011                0             0.00   \n",
       "1698       2013-01-02           18.972                0             0.00   \n",
       "1699                0            0.000                0             0.00   \n",
       "\n",
       "     Date_ICICI_Prude  NAV_ICICI_Prude Date_Motilal_Osw  NAV_Motilal_Osw  \\\n",
       "1695       2013-01-04            18.76                0              0.0   \n",
       "1696       2013-01-03            18.73                0              0.0   \n",
       "1697       2013-01-02            18.66                0              0.0   \n",
       "1698       2013-01-01            18.55                0              0.0   \n",
       "1699                0             0.00                0              0.0   \n",
       "\n",
       "     Date_Nippon_Indi  NAV_Nippon_Indi  \n",
       "1695       2013-01-08          14.7197  \n",
       "1696       2013-01-07          14.7718  \n",
       "1697       2013-01-04          14.8037  \n",
       "1698       2013-01-03          14.7305  \n",
       "1699       2013-01-02          14.6967  "
      ]
     },
     "execution_count": 32,
     "metadata": {},
     "output_type": "execute_result"
    }
   ],
   "source": [
    "df.tail()"
   ]
  },
  {
   "cell_type": "code",
   "execution_count": 33,
   "metadata": {},
   "outputs": [],
   "source": [
    "df.to_csv('all_MFs.csv',index=False)"
   ]
  },
  {
   "cell_type": "code",
   "execution_count": 186,
   "metadata": {},
   "outputs": [],
   "source": []
  },
  {
   "cell_type": "code",
   "execution_count": null,
   "metadata": {},
   "outputs": [],
   "source": []
  }
 ],
 "metadata": {
  "kernelspec": {
   "display_name": "Python 3",
   "language": "python",
   "name": "python3"
  },
  "language_info": {
   "codemirror_mode": {
    "name": "ipython",
    "version": 3
   },
   "file_extension": ".py",
   "mimetype": "text/x-python",
   "name": "python",
   "nbconvert_exporter": "python",
   "pygments_lexer": "ipython3",
   "version": "3.7.4"
  }
 },
 "nbformat": 4,
 "nbformat_minor": 2
}
