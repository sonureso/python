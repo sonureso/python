{
 "cells": [
  {
   "cell_type": "code",
   "execution_count": 1,
   "metadata": {},
   "outputs": [],
   "source": [
    "import pandas as pd\n",
    "import numpy as np\n",
    "from bs4 import BeautifulSoup as soup\n",
    "from urllib.request import Request, urlopen"
   ]
  },
  {
   "cell_type": "code",
   "execution_count": 2,
   "metadata": {},
   "outputs": [],
   "source": [
    "req = Request('http://www.wiseoldsayings.com/life-quotes/', headers={'User-Agent': 'Mozilla/5.0'})\n",
    "client = urlopen(req)\n",
    "webpage = client.read()\n",
    "client.close()"
   ]
  },
  {
   "cell_type": "code",
   "execution_count": 3,
   "metadata": {},
   "outputs": [],
   "source": [
    "page_soup = soup(webpage,\"html.parser\")"
   ]
  },
  {
   "cell_type": "code",
   "execution_count": 4,
   "metadata": {},
   "outputs": [],
   "source": [
    "containers = page_soup.findAll(\"div\",{\"class\":\"quote_container\"})"
   ]
  },
  {
   "cell_type": "code",
   "execution_count": 5,
   "metadata": {},
   "outputs": [],
   "source": [
    "container = containers[0]"
   ]
  },
  {
   "cell_type": "code",
   "execution_count": 6,
   "metadata": {},
   "outputs": [
    {
     "data": {
      "text/plain": [
       "\"Life isn't about finding yourself. Life is about creating yourself.      \""
      ]
     },
     "execution_count": 6,
     "metadata": {},
     "output_type": "execute_result"
    }
   ],
   "source": [
    "container.findAll(\"p\")[1].b.text"
   ]
  },
  {
   "cell_type": "code",
   "execution_count": 7,
   "metadata": {},
   "outputs": [
    {
     "name": "stdout",
     "output_type": "stream",
     "text": [
      "Life isn't about finding yourself. Life is about creating yourself.      \n",
      "The most important thing is to enjoy your life - to be happy - it's all that matters.      \n",
      "I have found that if you love life, life will love you back.      \n",
      "Life is really simple, but we insist on making it complicated.      \n",
      "In the end, it's not the years in your life that count. It's the life in your years.      \n",
      "Life is inherently risky. There is only one big risk you should avoid at all costs, and that is the risk of doing nothing.      \n",
      "We all have two lives. The second one starts when we realize we only have one.      \n",
      "You get in life what you have the courage to ask for.      \n",
      "People have different reasons for the way they live their lives. You cannot put everyone's reasons in the same box.      \n",
      "Mellow doesn't always make for a good story, but it makes for a good life.      \n",
      "Work like you don't need the money, love like you've never been hurt and dance like no one is watching.      \n",
      "When one door closes, another opens; but we often look so long and so regretfully upon the closed door that we do not see the one that has opened for us.      \n",
      "There comes a time when you have to choose between turning the page and closing the book.      \n",
      "To live is the rarest thing in the world. Most people exist, that is all.      \n",
      "Life is what happens to you while you're busy making other plans.      \n",
      "The purpose of life is not to be happy. It is to be useful, to be honorable, to be compassionate, to have it make some difference that you have lived and lived well.      \n",
      "Be not afraid of life. Believe that life is worth living, and your belief will help create the fact.      \n",
      "Life is a progress, and not a station.      \n",
      "To live is so startling it leaves little time for anything else.      \n",
      "It is not the length of life, but depth of life.      \n",
      "Life is 10% what happens to us and 90% how we react to it.      \n",
      "Be not afraid of life. Believe that life is worth living, and your belief will help create the fact.      \n",
      "Many of life's failures are experienced by people who did not realize how close they were to success when they gave up.      \n",
      "Our lives begin to end the day we become silent about things that matter.      \n",
      "Life is about making an impact, not making an income.       \n",
      "Strive not to be a success, but rather to be of value.      \n",
      "An unexamined life is not worth living.       \n",
      "Your time is limited, so don't waste it living someone else's life.      \n",
      "The two most important days in your life are the day you are born and the day you find out why.      \n",
      "Accept responsibility for your life. Know that it is you who will get you where you want to go, no one else.      \n"
     ]
    }
   ],
   "source": [
    "for container in containers:\n",
    "    print(container.findAll(\"p\")[1].b.text)"
   ]
  }
 ],
 "metadata": {
  "kernelspec": {
   "display_name": "Python 3",
   "language": "python",
   "name": "python3"
  },
  "language_info": {
   "codemirror_mode": {
    "name": "ipython",
    "version": 3
   },
   "file_extension": ".py",
   "mimetype": "text/x-python",
   "name": "python",
   "nbconvert_exporter": "python",
   "pygments_lexer": "ipython3",
   "version": "3.7.3"
  }
 },
 "nbformat": 4,
 "nbformat_minor": 2
}
