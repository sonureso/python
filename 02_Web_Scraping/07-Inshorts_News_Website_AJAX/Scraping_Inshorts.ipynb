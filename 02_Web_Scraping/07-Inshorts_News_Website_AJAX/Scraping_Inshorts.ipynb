{
 "cells": [
  {
   "cell_type": "code",
   "execution_count": 154,
   "metadata": {},
   "outputs": [],
   "source": [
    "import urllib\n",
    "from bs4 import BeautifulSoup\n",
    "from urllib.request import Request, urlopen"
   ]
  },
  {
   "cell_type": "code",
   "execution_count": 158,
   "metadata": {},
   "outputs": [],
   "source": [
    "#Getting first 25 posts:\n",
    "def addArticles(url):\n",
    "    req = urllib.request.Request(url,headers={'User-Agent': 'Mozilla/5.0'})\n",
    "    client = urllib.request.urlopen(req)\n",
    "    webpage = client.read()\n",
    "    client.close()\n",
    "\n",
    "    soup = BeautifulSoup(webpage)\n",
    "    articles = soup.findAll(\"div\",{\"itemprop\":\"articleBody\"})\n",
    "    for article in articles:\n",
    "        posts.append(article.text)\n",
    "\n",
    "    sc = list(soup.findAll('script'))\n",
    "    code = str(sc[-1].text[25:35])\n",
    "    return code"
   ]
  },
  {
   "cell_type": "code",
   "execution_count": 159,
   "metadata": {},
   "outputs": [],
   "source": [
    "# for scraping further pages, require code viz. o/p of prev page.\n",
    "def addArticle2(url,code):\n",
    "    data = {'category':'','news_offset':code}\n",
    "    response = requests.post(url, data=data)\n",
    "    htmltext = list((response.json()).values())[1]\n",
    "    soup = BeautifulSoup(htmltext, 'html.parser')\n",
    "    articles = soup.findAll(\"div\",{\"itemprop\":\"articleBody\"})\n",
    "    for article in articles:\n",
    "        posts.append(article.text)\n",
    "    return list((response.json()).values())[0]"
   ]
  },
  {
   "cell_type": "code",
   "execution_count": 178,
   "metadata": {},
   "outputs": [
    {
     "name": "stdout",
     "output_type": "stream",
     "text": [
      "25\n"
     ]
    }
   ],
   "source": [
    "#making first call for first page.\n",
    "posts = []\n",
    "url = \"https://inshorts.com/en/read\"\n",
    "code = addArticles(url)\n",
    "print(len(posts))"
   ]
  },
  {
   "cell_type": "code",
   "execution_count": 190,
   "metadata": {},
   "outputs": [
    {
     "name": "stdout",
     "output_type": "stream",
     "text": [
      "346\n"
     ]
    }
   ],
   "source": [
    "# Hit this code block n times for further n pages:\n",
    "url = \"https://inshorts.com/en/ajax/more_news\"\n",
    "code = addArticle2(url,code)\n",
    "print(len(posts))"
   ]
  },
  {
   "cell_type": "code",
   "execution_count": null,
   "metadata": {},
   "outputs": [],
   "source": []
  },
  {
   "cell_type": "code",
   "execution_count": 88,
   "metadata": {},
   "outputs": [],
   "source": [
    "\n",
    "\n"
   ]
  }
 ],
 "metadata": {
  "kernelspec": {
   "display_name": "Python 3",
   "language": "python",
   "name": "python3"
  },
  "language_info": {
   "codemirror_mode": {
    "name": "ipython",
    "version": 3
   },
   "file_extension": ".py",
   "mimetype": "text/x-python",
   "name": "python",
   "nbconvert_exporter": "python",
   "pygments_lexer": "ipython3",
   "version": "3.7.3"
  }
 },
 "nbformat": 4,
 "nbformat_minor": 2
}
