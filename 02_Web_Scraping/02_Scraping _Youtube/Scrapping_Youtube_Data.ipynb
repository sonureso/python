{
 "cells": [
  {
   "cell_type": "code",
   "execution_count": 1,
   "metadata": {},
   "outputs": [],
   "source": [
    "import pandas as pd\n",
    "import numpy as np\n",
    "from bs4 import BeautifulSoup as soup\n",
    "from urllib.request import Request, urlopen"
   ]
  },
  {
   "cell_type": "code",
   "execution_count": 2,
   "metadata": {},
   "outputs": [],
   "source": [
    "req = Request('https://www.youtube.com/watch?v=VuDuSrYigTk', headers={'User-Agent': 'Mozilla/5.0'})\n",
    "client = urlopen(req)\n",
    "webpage = client.read()\n",
    "client.close()"
   ]
  },
  {
   "cell_type": "code",
   "execution_count": 3,
   "metadata": {},
   "outputs": [],
   "source": [
    "page_soup = soup(webpage,\"html.parser\")"
   ]
  },
  {
   "cell_type": "code",
   "execution_count": 4,
   "metadata": {},
   "outputs": [],
   "source": [
    "title = page_soup.find(\"div\",attrs={'id':'watch-headline-title'}).h1.span.text\n",
    "views = page_soup.find(\"div\",attrs={\"class\":\"watch-view-count\"}).text\n",
    "desc = page_soup.find(\"div\",attrs={\"id\":\"watch-description-text\"}).p.text\n",
    "channel = page_soup.find(\"div\",attrs={\"class\":\"yt-user-info\"}).a.text\n",
    "likes = page_soup.find(\"span\",attrs={\"class\":\"like-button-renderer\"}).button.text\n",
    "dislikes = page_soup.findAll(\"button\",attrs={\"class\":\"yt-uix-button\"})[20].text\n",
    "date = page_soup.find(\"strong\",attrs={\"class\":\"watch-time-text\"}).text"
   ]
  },
  {
   "cell_type": "code",
   "execution_count": 5,
   "metadata": {},
   "outputs": [
    {
     "name": "stdout",
     "output_type": "stream",
     "text": [
      "Title:  \n",
      "    Arijit Singh | Chhod Diya | Bazaar Movie | Lyrical Full Song\n",
      "  \n",
      "Views:  71,928,260 views\n",
      "Likes:  483,600\n",
      "dislikes:  26,128\n",
      "Channel Name:  Boxofsk\n",
      "Date:  Published on Oct 19, 2018 \n",
      "\n",
      "Description:  Arijit Singh | Chhod Diya | Bazaar Movie | Lyrical Full Song | New Song | 2018 | #BoxofskDownload Mp3: https://bit.ly/2veVMuASong: Chhod Diya (Lyrical)Singer: Arijit SinghFrom: Baazaar--------------------------------------------------------------------For songs, release updates join telegram channel: https://bit.ly/31XfJVZ~~~~~~~~~~~~~~~~~LYRICS~~~~~~~~~~~~~~~~~~~~~~Chhod diya wo raastaJis raaste se tum the guzreinChhod diya wo raastaJis raaste se tum the guzreinTodd diya wo aainaJis aaine mein tera aks dikheMain sehar mein tereTha gairo saMujhe apna koi na milaTere lamhon seMere jakhmon seAb toh main door chalaRukh na kiya un galiyon kaJin galiyon mein teri baatein hoChhod diya wo raastaJis raaste se tum the guzreinMain tha musafir raah ka teriTujh tak mera tha daayaraMain tha musafir raah ka teriTujh tak mera tha daayaraMain bhi kabhi tha mehbar teraKhanabadosh main ab thehraKhanabadosh main ab thehrachoota nahi un foolon koJin foolon mein teri khusboo hoRuth gaya un khwabon seJin khwabon mein tera khwab bhi hoKuch bhi na paya maine safar meinHo ke safar ka main reh gayaKuch bhi na paya maine safar meinHo ke safar ka main reh gayaKaagaj ka wo seedha ghar thaBheengte barish mein beh gayaBheengte barish mein beh gayaDekhun nahi us chandni koJis mein ki teri perchhai hoDoor hoon main in hawaon seYe hawa tujhe chhu ke bhi aayi na ho\n"
     ]
    }
   ],
   "source": [
    "print('Title: ',title)\n",
    "print(\"Views: \",views)\n",
    "print(\"Likes: \",likes)\n",
    "print(\"dislikes: \",dislikes)\n",
    "print(\"Channel Name: \",channel)\n",
    "print(\"Date: \",date,\"\\n\")\n",
    "print(\"Description: \",desc)"
   ]
  },
  {
   "cell_type": "code",
   "execution_count": null,
   "metadata": {},
   "outputs": [],
   "source": []
  }
 ],
 "metadata": {
  "kernelspec": {
   "display_name": "Python 3",
   "language": "python",
   "name": "python3"
  },
  "language_info": {
   "codemirror_mode": {
    "name": "ipython",
    "version": 3
   },
   "file_extension": ".py",
   "mimetype": "text/x-python",
   "name": "python",
   "nbconvert_exporter": "python",
   "pygments_lexer": "ipython3",
   "version": "3.7.3"
  }
 },
 "nbformat": 4,
 "nbformat_minor": 2
}
