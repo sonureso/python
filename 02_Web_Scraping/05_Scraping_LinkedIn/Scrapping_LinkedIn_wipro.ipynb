{
 "cells": [
  {
   "cell_type": "code",
   "execution_count": 1,
   "metadata": {},
   "outputs": [],
   "source": [
    "import pandas as pd\n",
    "import numpy as np\n",
    "from bs4 import BeautifulSoup as soup\n",
    "from urllib.request import Request, urlopen\n",
    "import requests\n",
    "import json"
   ]
  },
  {
   "cell_type": "code",
   "execution_count": 2,
   "metadata": {},
   "outputs": [],
   "source": [
    "f_data = {\n",
    "    'session_key': 'sonuresonance@gmail.com',\n",
    "    'session_password': 'resonance3',\n",
    "    'trk': 'guest_homepage-basic_sign-in-submit'\n",
    "}"
   ]
  },
  {
   "cell_type": "code",
   "execution_count": 3,
   "metadata": {},
   "outputs": [],
   "source": [
    "url = 'https://www.linkedin.com'\n",
    "url2 = 'https://www.linkedin.com/uas/login-submit'\n",
    "with requests.Session() as s:\n",
    "    result = s.get(url,headers={'User-Agent': 'Mozilla/5.0'})\n",
    "    \n",
    "    page_soup = soup(result.content,\"html.parser\")\n",
    "    f_data['loginCsrfParam'] = page_soup.find(\"input\",attrs={\"name\":\"loginCsrfParam\"})['value']\n",
    "    result2 = s.post(url2, data = f_data, headers={'User-Agent': 'Mozilla/5.0'})\n",
    "    result3 = s.get('https://www.linkedin.com/search/results/people/?facetCurrentCompany=%5B%221318%22%2C%229437247%22%5D')"
   ]
  },
  {
   "cell_type": "code",
   "execution_count": 170,
   "metadata": {},
   "outputs": [],
   "source": [
    "#result3.content"
   ]
  },
  {
   "cell_type": "code",
   "execution_count": 4,
   "metadata": {},
   "outputs": [],
   "source": [
    "page_soup2 = soup(result3.content,\"html.parser\")"
   ]
  },
  {
   "cell_type": "code",
   "execution_count": 5,
   "metadata": {},
   "outputs": [],
   "source": [
    "t = page_soup2.findAll(\"code\")[16].text[3:-1]\n",
    "m = json.loads(t)"
   ]
  },
  {
   "cell_type": "code",
   "execution_count": 6,
   "metadata": {},
   "outputs": [],
   "source": [
    "name = []\n",
    "id = []\n",
    "desig = []\n",
    "add = []"
   ]
  },
  {
   "cell_type": "code",
   "execution_count": 7,
   "metadata": {},
   "outputs": [],
   "source": [
    "for d in m['data']['elements'][1]['elements']:\n",
    "    name.append(d['title']['text'])\n",
    "    id.append(d['publicIdentifier'])\n",
    "    desig.append(d['headline']['text'])\n",
    "    add.append(d['subline']['text'])"
   ]
  },
  {
   "cell_type": "code",
   "execution_count": 8,
   "metadata": {},
   "outputs": [],
   "source": [
    "df = pd.DataFrame()\n",
    "df['name'] = name\n",
    "df['id'] = id\n",
    "df['desig'] = desig\n",
    "df['add'] = add"
   ]
  },
  {
   "cell_type": "code",
   "execution_count": 9,
   "metadata": {},
   "outputs": [
    {
     "data": {
      "text/html": [
       "<div>\n",
       "<style scoped>\n",
       "    .dataframe tbody tr th:only-of-type {\n",
       "        vertical-align: middle;\n",
       "    }\n",
       "\n",
       "    .dataframe tbody tr th {\n",
       "        vertical-align: top;\n",
       "    }\n",
       "\n",
       "    .dataframe thead th {\n",
       "        text-align: right;\n",
       "    }\n",
       "</style>\n",
       "<table border=\"1\" class=\"dataframe\">\n",
       "  <thead>\n",
       "    <tr style=\"text-align: right;\">\n",
       "      <th></th>\n",
       "      <th>name</th>\n",
       "      <th>id</th>\n",
       "      <th>desig</th>\n",
       "      <th>add</th>\n",
       "    </tr>\n",
       "  </thead>\n",
       "  <tbody>\n",
       "    <tr>\n",
       "      <th>0</th>\n",
       "      <td>shubham gupta</td>\n",
       "      <td>shubham-gupta-03a079103</td>\n",
       "      <td>Project Engineer at Wipro Limited</td>\n",
       "      <td>Bengaluru Area, India</td>\n",
       "    </tr>\n",
       "    <tr>\n",
       "      <th>1</th>\n",
       "      <td>Rishabh Jain</td>\n",
       "      <td>rishabh-jain-9a1733103</td>\n",
       "      <td>Project Engineer at Wipro</td>\n",
       "      <td>New Delhi Area, India</td>\n",
       "    </tr>\n",
       "    <tr>\n",
       "      <th>2</th>\n",
       "      <td>Rishav Yadav</td>\n",
       "      <td>rishav-yadav-2150875b</td>\n",
       "      <td>Project Engineer</td>\n",
       "      <td>Tiruppur Area, India</td>\n",
       "    </tr>\n",
       "    <tr>\n",
       "      <th>3</th>\n",
       "      <td>Vishal Lavania</td>\n",
       "      <td>vishal-lavania-105a50128</td>\n",
       "      <td>Project Engineer at Wipro Limited</td>\n",
       "      <td>Mathura Area, India</td>\n",
       "    </tr>\n",
       "    <tr>\n",
       "      <th>4</th>\n",
       "      <td>Deepanshi Dubey</td>\n",
       "      <td>deepanshi-dubey-130bb1150</td>\n",
       "      <td>Project Engineer at Wipro Limited</td>\n",
       "      <td>Aligarh Area, India</td>\n",
       "    </tr>\n",
       "    <tr>\n",
       "      <th>5</th>\n",
       "      <td>Jatin Aggarwal</td>\n",
       "      <td>jatin-aggarwal-451041116</td>\n",
       "      <td>Project Engineer at Wipro</td>\n",
       "      <td>Kalyan Area, India</td>\n",
       "    </tr>\n",
       "    <tr>\n",
       "      <th>6</th>\n",
       "      <td>Abhishek Vats</td>\n",
       "      <td>abhishek-vats-19b111169</td>\n",
       "      <td>Project Engineer at Wipro Limited</td>\n",
       "      <td>Agra Area, India</td>\n",
       "    </tr>\n",
       "    <tr>\n",
       "      <th>7</th>\n",
       "      <td>Yugal Pratap Singh</td>\n",
       "      <td>yugal-pratap-singh-8b0821124</td>\n",
       "      <td>Project Engineer at Wipro Limited</td>\n",
       "      <td>Mathura Area, India</td>\n",
       "    </tr>\n",
       "    <tr>\n",
       "      <th>8</th>\n",
       "      <td>Vikas Upadhyay</td>\n",
       "      <td>vikas-upadhyay-b2a077114</td>\n",
       "      <td>Project Engineer at Wipro Limited</td>\n",
       "      <td>Aligarh Area, India</td>\n",
       "    </tr>\n",
       "    <tr>\n",
       "      <th>9</th>\n",
       "      <td>Priya Yadav</td>\n",
       "      <td>priya-yadav-264b9486</td>\n",
       "      <td>Analyst at Wipro Limited</td>\n",
       "      <td>New Delhi Area, India</td>\n",
       "    </tr>\n",
       "  </tbody>\n",
       "</table>\n",
       "</div>"
      ],
      "text/plain": [
       "                 name                            id  \\\n",
       "0       shubham gupta       shubham-gupta-03a079103   \n",
       "1        Rishabh Jain        rishabh-jain-9a1733103   \n",
       "2        Rishav Yadav         rishav-yadav-2150875b   \n",
       "3      Vishal Lavania      vishal-lavania-105a50128   \n",
       "4     Deepanshi Dubey     deepanshi-dubey-130bb1150   \n",
       "5      Jatin Aggarwal      jatin-aggarwal-451041116   \n",
       "6       Abhishek Vats       abhishek-vats-19b111169   \n",
       "7  Yugal Pratap Singh  yugal-pratap-singh-8b0821124   \n",
       "8      Vikas Upadhyay      vikas-upadhyay-b2a077114   \n",
       "9         Priya Yadav          priya-yadav-264b9486   \n",
       "\n",
       "                               desig                    add  \n",
       "0  Project Engineer at Wipro Limited  Bengaluru Area, India  \n",
       "1          Project Engineer at Wipro  New Delhi Area, India  \n",
       "2                   Project Engineer   Tiruppur Area, India  \n",
       "3  Project Engineer at Wipro Limited    Mathura Area, India  \n",
       "4  Project Engineer at Wipro Limited    Aligarh Area, India  \n",
       "5          Project Engineer at Wipro     Kalyan Area, India  \n",
       "6  Project Engineer at Wipro Limited       Agra Area, India  \n",
       "7  Project Engineer at Wipro Limited    Mathura Area, India  \n",
       "8  Project Engineer at Wipro Limited    Aligarh Area, India  \n",
       "9           Analyst at Wipro Limited  New Delhi Area, India  "
      ]
     },
     "execution_count": 9,
     "metadata": {},
     "output_type": "execute_result"
    }
   ],
   "source": [
    "df"
   ]
  },
  {
   "cell_type": "code",
   "execution_count": 4,
   "metadata": {},
   "outputs": [],
   "source": []
  },
  {
   "cell_type": "code",
   "execution_count": 5,
   "metadata": {},
   "outputs": [],
   "source": []
  },
  {
   "cell_type": "code",
   "execution_count": null,
   "metadata": {},
   "outputs": [],
   "source": []
  },
  {
   "cell_type": "code",
   "execution_count": null,
   "metadata": {},
   "outputs": [],
   "source": []
  }
 ],
 "metadata": {
  "kernelspec": {
   "display_name": "Python 3",
   "language": "python",
   "name": "python3"
  },
  "language_info": {
   "codemirror_mode": {
    "name": "ipython",
    "version": 3
   },
   "file_extension": ".py",
   "mimetype": "text/x-python",
   "name": "python",
   "nbconvert_exporter": "python",
   "pygments_lexer": "ipython3",
   "version": "3.7.3"
  }
 },
 "nbformat": 4,
 "nbformat_minor": 2
}
