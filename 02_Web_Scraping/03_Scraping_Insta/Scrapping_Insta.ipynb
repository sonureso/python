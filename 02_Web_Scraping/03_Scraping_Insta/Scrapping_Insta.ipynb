{
 "cells": [
  {
   "cell_type": "code",
   "execution_count": 1,
   "metadata": {},
   "outputs": [],
   "source": [
    "import pandas as pd\n",
    "import numpy as np\n",
    "from urllib.request import urlretrieve as save\n",
    "from bs4 import BeautifulSoup as soup\n",
    "from urllib.request import Request, urlopen\n",
    "import json"
   ]
  },
  {
   "cell_type": "code",
   "execution_count": 2,
   "metadata": {},
   "outputs": [],
   "source": [
    "def saveimages(photos):\n",
    "    img_link = []\n",
    "    count = 0\n",
    "    for photo in photos:\n",
    "        img_link.append(photo['node']['display_url'])\n",
    "        img_nm = \"./images/image_\"+str(count)+\".jpg\"\n",
    "        save(img_link[count],img_nm)\n",
    "        count+=1\n",
    "    print(count-1,'photos saved.')"
   ]
  },
  {
   "cell_type": "code",
   "execution_count": 3,
   "metadata": {},
   "outputs": [],
   "source": [
    "req = Request('https://www.instagram.com/millionaire_lines/', headers={'User-Agent': 'Mozilla/5.0'})\n",
    "client = urlopen(req)\n",
    "webpage = client.read()\n",
    "client.close()"
   ]
  },
  {
   "cell_type": "code",
   "execution_count": 4,
   "metadata": {},
   "outputs": [],
   "source": [
    "page_soup = soup(webpage,\"html.parser\")\n",
    "d = page_soup.findAll(\"script\")"
   ]
  },
  {
   "cell_type": "code",
   "execution_count": 5,
   "metadata": {},
   "outputs": [],
   "source": [
    "z = d[4].text[21:-1]\n",
    "m = json.loads(z)    # converting string to dictionary."
   ]
  },
  {
   "cell_type": "code",
   "execution_count": 6,
   "metadata": {},
   "outputs": [],
   "source": [
    "followers = m['entry_data']['ProfilePage'][0]['graphql']['user']['edge_followed_by']['count']\n",
    "following = m['entry_data']['ProfilePage'][0]['graphql']['user']['edge_follow']['count']\n",
    "f_nm = m['entry_data']['ProfilePage'][0]['graphql']['user']['full_name']\n",
    "privacy = m['entry_data']['ProfilePage'][0]['graphql']['user']['is_private']\n",
    "verified = m['entry_data']['ProfilePage'][0]['graphql']['user']['is_verified']\n",
    "profile_pic_link = m['entry_data']['ProfilePage'][0]['graphql']['user']['profile_pic_url_hd']\n",
    "usernm = m['entry_data']['ProfilePage'][0]['graphql']['user']['username']\n",
    "posts = m['entry_data']['ProfilePage'][0]['graphql']['user']['edge_owner_to_timeline_media']['count']"
   ]
  },
  {
   "cell_type": "code",
   "execution_count": 7,
   "metadata": {},
   "outputs": [
    {
     "name": "stdout",
     "output_type": "stream",
     "text": [
      "Name:  Millionaire Lines\n",
      "Posts:  1688\n",
      "Followers:  755689\n",
      "Followings:  91\n",
      "Private:  False\n",
      "Verified:  False\n"
     ]
    }
   ],
   "source": [
    "print(\"Name: \",f_nm)\n",
    "print(\"Posts: \",posts)\n",
    "print(\"Followers: \",followers)\n",
    "print(\"Followings: \",following)\n",
    "print(\"Private: \",privacy)\n",
    "print(\"Verified: \",verified)"
   ]
  },
  {
   "cell_type": "markdown",
   "metadata": {},
   "source": [
    "    Saving photos from here:"
   ]
  },
  {
   "cell_type": "code",
   "execution_count": 8,
   "metadata": {},
   "outputs": [],
   "source": [
    "photos = m['entry_data']['ProfilePage'][0]['graphql']['user']['edge_owner_to_timeline_media']['edges']"
   ]
  },
  {
   "cell_type": "code",
   "execution_count": 9,
   "metadata": {},
   "outputs": [
    {
     "name": "stdout",
     "output_type": "stream",
     "text": [
      "11 photos saved.\n"
     ]
    }
   ],
   "source": [
    "#Will save 12 photos in images folder.\n",
    "# make images folder if do not have.\n",
    "saveimages(photos)"
   ]
  },
  {
   "cell_type": "code",
   "execution_count": null,
   "metadata": {},
   "outputs": [],
   "source": []
  }
 ],
 "metadata": {
  "kernelspec": {
   "display_name": "Python 3",
   "language": "python",
   "name": "python3"
  },
  "language_info": {
   "codemirror_mode": {
    "name": "ipython",
    "version": 3
   },
   "file_extension": ".py",
   "mimetype": "text/x-python",
   "name": "python",
   "nbconvert_exporter": "python",
   "pygments_lexer": "ipython3",
   "version": "3.7.3"
  }
 },
 "nbformat": 4,
 "nbformat_minor": 2
}
